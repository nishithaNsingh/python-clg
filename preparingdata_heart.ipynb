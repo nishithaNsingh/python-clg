{
 "cells": [
  {
   "cell_type": "code",
   "execution_count": 75,
   "id": "99887f29-6684-4533-9f26-00a4ccae9b68",
   "metadata": {},
   "outputs": [],
   "source": [
    "import pandas as pd\n",
    "import numpy as np\n",
    "import matplotlib.pyplot as plt\n",
    "from sklearn.linear_model import LogisticRegression\n",
    "np.random.seed(42)"
   ]
  },
  {
   "cell_type": "code",
   "execution_count": 76,
   "id": "2789aba9-bc53-4926-b089-cb8419d1b970",
   "metadata": {},
   "outputs": [],
   "source": [
    "age = np.random.randint(30, 80, 100)                   \n",
    "cholesterol = np.random.randint(150, 300,100)          \n",
    "blood_pressure = np.random.randint(110, 180, 100)      \n",
    "disease = np.random.choice([0, 1], 100) \n"
   ]
  },
  {
   "cell_type": "code",
   "execution_count": 77,
   "id": "4f3ee833-b2d8-4910-9b87-1ce73c97db1e",
   "metadata": {},
   "outputs": [],
   "source": [
    "data = pd.DataFrame({\n",
    "    'Age': age,\n",
    "    'Cholesterol': cholesterol,\n",
    "    'BloodPressure': blood_pressure,\n",
    "    'Disease': disease\n",
    "})\n"
   ]
  },
  {
   "cell_type": "code",
   "execution_count": 78,
   "id": "92d5fe07-7af3-4d60-ad44-f2467ad8ac49",
   "metadata": {},
   "outputs": [
    {
     "name": "stdout",
     "output_type": "stream",
     "text": [
      "   Age  Cholesterol  BloodPressure  Disease\n",
      "0   68          158            179        1\n",
      "1   58          237            120        1\n",
      "2   44          278            125        0\n",
      "3   72          285            168        1\n",
      "4   37          212            179        0\n"
     ]
    }
   ],
   "source": [
    "print(data.head())"
   ]
  },
  {
   "cell_type": "code",
   "execution_count": 79,
   "id": "b524368a-1cc3-406e-b1b2-62dbf0b878e7",
   "metadata": {},
   "outputs": [],
   "source": [
    "x = data[['Age', 'Cholesterol', 'BloodPressure']]  # Features\n",
    "y = data['Disease']     \n",
    "\n",
    "from sklearn.model_selection import train_test_split\n",
    "x_train,x_test,y_train,y_test = train_test_split(x,y,test_size = 0.2 , random_state = 42)"
   ]
  },
  {
   "cell_type": "code",
   "execution_count": 80,
   "id": "708c992e-a37b-4d23-8cf1-8415671f5c01",
   "metadata": {},
   "outputs": [],
   "source": [
    "model = LogisticRegression()\n",
    "model.fit(x_train, y_train)\n",
    "\n",
    "y_pred = model.predict(x_test)"
   ]
  },
  {
   "cell_type": "code",
   "execution_count": 81,
   "id": "e9f8232f-34a3-4f04-8355-818634b39f99",
   "metadata": {},
   "outputs": [
    {
     "name": "stdout",
     "output_type": "stream",
     "text": [
      "Confusion Matrix is\n",
      " [[2 3]\n",
      " [6 9]]\n",
      "Accuracy is 0.55\n",
      "AUC Score is 0.5\n"
     ]
    }
   ],
   "source": [
    "from sklearn import metrics\n",
    "print(\"Confusion Matrix is\\n\",metrics.confusion_matrix(y_pred,y_test))\n",
    "print(\"Accuracy is\",metrics.accuracy_score(y_pred,y_test))\n",
    "print(\"AUC Score is\",metrics.roc_auc_score(y_pred,y_test))"
   ]
  },
  {
   "cell_type": "code",
   "execution_count": 82,
   "id": "39d5e47f-98e5-4cae-89f9-ebd901bb23b3",
   "metadata": {},
   "outputs": [
    {
     "name": "stdout",
     "output_type": "stream",
     "text": [
      "[1 1 1 1 0 0 1 0 1 1 1 0 1 1 0 1 1 1 1 1]\n"
     ]
    }
   ],
   "source": [
    "\n",
    "print(y_pred)"
   ]
  },
  {
   "cell_type": "code",
   "execution_count": 83,
   "id": "ea38e36b-0946-4b5d-abf7-6384fb0e4f3a",
   "metadata": {},
   "outputs": [
    {
     "name": "stdout",
     "output_type": "stream",
     "text": [
      "[1]\n"
     ]
    },
    {
     "name": "stderr",
     "output_type": "stream",
     "text": [
      "C:\\ProgramData\\anaconda3\\Lib\\site-packages\\sklearn\\base.py:493: UserWarning: X does not have valid feature names, but LogisticRegression was fitted with feature names\n",
      "  warnings.warn(\n"
     ]
    }
   ],
   "source": [
    "x_new = np.array([[35,200,150]])\n",
    "y_new = model.predict(x_new)\n",
    "print(y_new)"
   ]
  },
  {
   "cell_type": "code",
   "execution_count": null,
   "id": "e6678951-9c98-417b-aae1-0abb3f5c2d8e",
   "metadata": {},
   "outputs": [],
   "source": []
  },
  {
   "cell_type": "code",
   "execution_count": null,
   "id": "04fd2188-cbd3-45a7-b605-c08f392d032f",
   "metadata": {},
   "outputs": [],
   "source": []
  }
 ],
 "metadata": {
  "kernelspec": {
   "display_name": "Python 3 (ipykernel)",
   "language": "python",
   "name": "python3"
  },
  "language_info": {
   "codemirror_mode": {
    "name": "ipython",
    "version": 3
   },
   "file_extension": ".py",
   "mimetype": "text/x-python",
   "name": "python",
   "nbconvert_exporter": "python",
   "pygments_lexer": "ipython3",
   "version": "3.12.4"
  }
 },
 "nbformat": 4,
 "nbformat_minor": 5
}
